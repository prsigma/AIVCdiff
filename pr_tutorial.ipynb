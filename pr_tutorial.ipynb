{
 "cells": [
  {
   "cell_type": "code",
   "execution_count": 1,
   "metadata": {},
   "outputs": [
    {
     "name": "stderr",
     "output_type": "stream",
     "text": [
      "/home/pr/mambaforge/lib/python3.12/site-packages/anndata/_core/anndata.py:1756: UserWarning: Observation names are not unique. To make them unique, call `.obs_names_make_unique`.\n",
      "  utils.warn_names_duplicates(\"obs\")\n"
     ]
    },
    {
     "data": {
      "text/plain": [
       "AnnData object with n_obs × n_vars = 328480 × 977\n",
       "    obs: 'pert_mfc_id', 'pert_id', 'pert_dose', 'pert_dose_unit', 'pert_idose', 'pert_time', 'pert_itime', 'pert_time_unit', 'plate', 'well', 'cmap_name', 'target', 'moa', 'canonical_smiles', 'inchi_key', 'compound_aliases', 'TableNumber', 'ImageNumber', 'Image_FileName_DAPI', 'Image_PathName_DAPI', 'Image_FileName_Tubulin', 'Image_PathName_Tubulin', 'Image_FileName_Actin', 'Image_PathName_Actin', 'Image_Metadata_Plate_DAPI', 'Image_Metadata_Well_DAPI', 'Replicate', 'Image_Metadata_Compound', 'Image_Metadata_Concentration', 'compound', 'smiles', 'merged_image', 'split'"
      ]
     },
     "execution_count": 1,
     "metadata": {},
     "output_type": "execute_result"
    }
   ],
   "source": [
    "import scanpy as sc\n",
    "\n",
    "data = sc.read_h5ad(\"/home/pr/BBBC021_train_data.h5ad\")\n",
    "data"
   ]
  },
  {
   "cell_type": "code",
   "execution_count": 4,
   "metadata": {},
   "outputs": [
    {
     "data": {
      "text/plain": [
       "pert_time\n",
       "24.0    328480\n",
       "Name: count, dtype: int64"
      ]
     },
     "execution_count": 4,
     "metadata": {},
     "output_type": "execute_result"
    }
   ],
   "source": [
    "data.obs['pert_time'].value_counts()"
   ]
  },
  {
   "cell_type": "code",
   "execution_count": 9,
   "metadata": {},
   "outputs": [
    {
     "data": {
      "text/html": [
       "<div>\n",
       "<style scoped>\n",
       "    .dataframe tbody tr th:only-of-type {\n",
       "        vertical-align: middle;\n",
       "    }\n",
       "\n",
       "    .dataframe tbody tr th {\n",
       "        vertical-align: top;\n",
       "    }\n",
       "\n",
       "    .dataframe thead th {\n",
       "        text-align: right;\n",
       "    }\n",
       "</style>\n",
       "<table border=\"1\" class=\"dataframe\">\n",
       "  <thead>\n",
       "    <tr style=\"text-align: right;\">\n",
       "      <th></th>\n",
       "      <th>pert_dose</th>\n",
       "      <th>pert_time</th>\n",
       "      <th>merged_image</th>\n",
       "      <th>compound</th>\n",
       "    </tr>\n",
       "  </thead>\n",
       "  <tbody>\n",
       "    <tr>\n",
       "      <th>ASG001_MCF7_24H_X2_B14:A16</th>\n",
       "      <td>10.000000</td>\n",
       "      <td>24.0</td>\n",
       "      <td>/home/pr/MorphoDiff/train_data/image_4364.png</td>\n",
       "      <td>LY-294002</td>\n",
       "    </tr>\n",
       "    <tr>\n",
       "      <th>ASG001_MCF7_24H_X2_B14:A16</th>\n",
       "      <td>10.000000</td>\n",
       "      <td>24.0</td>\n",
       "      <td>/home/pr/MorphoDiff/train_data/image_4365.png</td>\n",
       "      <td>LY-294002</td>\n",
       "    </tr>\n",
       "    <tr>\n",
       "      <th>ASG001_MCF7_24H_X2_B14:A16</th>\n",
       "      <td>10.000000</td>\n",
       "      <td>24.0</td>\n",
       "      <td>/home/pr/MorphoDiff/train_data/image_4366.png</td>\n",
       "      <td>LY-294002</td>\n",
       "    </tr>\n",
       "    <tr>\n",
       "      <th>ASG001_MCF7_24H_X2_B14:A16</th>\n",
       "      <td>10.000000</td>\n",
       "      <td>24.0</td>\n",
       "      <td>/home/pr/MorphoDiff/train_data/image_4367.png</td>\n",
       "      <td>LY-294002</td>\n",
       "    </tr>\n",
       "    <tr>\n",
       "      <th>ASG001_MCF7_24H_X2_B14:A16</th>\n",
       "      <td>10.000000</td>\n",
       "      <td>24.0</td>\n",
       "      <td>/home/pr/MorphoDiff/train_data/image_4368.png</td>\n",
       "      <td>LY-294002</td>\n",
       "    </tr>\n",
       "    <tr>\n",
       "      <th>...</th>\n",
       "      <td>...</td>\n",
       "      <td>...</td>\n",
       "      <td>...</td>\n",
       "      <td>...</td>\n",
       "    </tr>\n",
       "    <tr>\n",
       "      <th>REP.B028_MCF7_24H_X2_B23:P06</th>\n",
       "      <td>0.009497</td>\n",
       "      <td>24.0</td>\n",
       "      <td>/home/pr/MorphoDiff/train_data/image_6183.png</td>\n",
       "      <td>quercetin</td>\n",
       "    </tr>\n",
       "    <tr>\n",
       "      <th>REP.B028_MCF7_24H_X2_B23:P06</th>\n",
       "      <td>0.009497</td>\n",
       "      <td>24.0</td>\n",
       "      <td>/home/pr/MorphoDiff/train_data/image_6184.png</td>\n",
       "      <td>quercetin</td>\n",
       "    </tr>\n",
       "    <tr>\n",
       "      <th>REP.B028_MCF7_24H_X2_B23:P06</th>\n",
       "      <td>0.009497</td>\n",
       "      <td>24.0</td>\n",
       "      <td>/home/pr/MorphoDiff/train_data/image_6185.png</td>\n",
       "      <td>quercetin</td>\n",
       "    </tr>\n",
       "    <tr>\n",
       "      <th>REP.B028_MCF7_24H_X2_B23:P06</th>\n",
       "      <td>0.009497</td>\n",
       "      <td>24.0</td>\n",
       "      <td>/home/pr/MorphoDiff/train_data/image_6186.png</td>\n",
       "      <td>quercetin</td>\n",
       "    </tr>\n",
       "    <tr>\n",
       "      <th>REP.B028_MCF7_24H_X2_B23:P06</th>\n",
       "      <td>0.009497</td>\n",
       "      <td>24.0</td>\n",
       "      <td>/home/pr/MorphoDiff/train_data/image_6187.png</td>\n",
       "      <td>quercetin</td>\n",
       "    </tr>\n",
       "  </tbody>\n",
       "</table>\n",
       "<p>328480 rows × 4 columns</p>\n",
       "</div>"
      ],
      "text/plain": [
       "                              pert_dose  pert_time  \\\n",
       "ASG001_MCF7_24H_X2_B14:A16    10.000000       24.0   \n",
       "ASG001_MCF7_24H_X2_B14:A16    10.000000       24.0   \n",
       "ASG001_MCF7_24H_X2_B14:A16    10.000000       24.0   \n",
       "ASG001_MCF7_24H_X2_B14:A16    10.000000       24.0   \n",
       "ASG001_MCF7_24H_X2_B14:A16    10.000000       24.0   \n",
       "...                                 ...        ...   \n",
       "REP.B028_MCF7_24H_X2_B23:P06   0.009497       24.0   \n",
       "REP.B028_MCF7_24H_X2_B23:P06   0.009497       24.0   \n",
       "REP.B028_MCF7_24H_X2_B23:P06   0.009497       24.0   \n",
       "REP.B028_MCF7_24H_X2_B23:P06   0.009497       24.0   \n",
       "REP.B028_MCF7_24H_X2_B23:P06   0.009497       24.0   \n",
       "\n",
       "                                                               merged_image  \\\n",
       "ASG001_MCF7_24H_X2_B14:A16    /home/pr/MorphoDiff/train_data/image_4364.png   \n",
       "ASG001_MCF7_24H_X2_B14:A16    /home/pr/MorphoDiff/train_data/image_4365.png   \n",
       "ASG001_MCF7_24H_X2_B14:A16    /home/pr/MorphoDiff/train_data/image_4366.png   \n",
       "ASG001_MCF7_24H_X2_B14:A16    /home/pr/MorphoDiff/train_data/image_4367.png   \n",
       "ASG001_MCF7_24H_X2_B14:A16    /home/pr/MorphoDiff/train_data/image_4368.png   \n",
       "...                                                                     ...   \n",
       "REP.B028_MCF7_24H_X2_B23:P06  /home/pr/MorphoDiff/train_data/image_6183.png   \n",
       "REP.B028_MCF7_24H_X2_B23:P06  /home/pr/MorphoDiff/train_data/image_6184.png   \n",
       "REP.B028_MCF7_24H_X2_B23:P06  /home/pr/MorphoDiff/train_data/image_6185.png   \n",
       "REP.B028_MCF7_24H_X2_B23:P06  /home/pr/MorphoDiff/train_data/image_6186.png   \n",
       "REP.B028_MCF7_24H_X2_B23:P06  /home/pr/MorphoDiff/train_data/image_6187.png   \n",
       "\n",
       "                               compound  \n",
       "ASG001_MCF7_24H_X2_B14:A16    LY-294002  \n",
       "ASG001_MCF7_24H_X2_B14:A16    LY-294002  \n",
       "ASG001_MCF7_24H_X2_B14:A16    LY-294002  \n",
       "ASG001_MCF7_24H_X2_B14:A16    LY-294002  \n",
       "ASG001_MCF7_24H_X2_B14:A16    LY-294002  \n",
       "...                                 ...  \n",
       "REP.B028_MCF7_24H_X2_B23:P06  quercetin  \n",
       "REP.B028_MCF7_24H_X2_B23:P06  quercetin  \n",
       "REP.B028_MCF7_24H_X2_B23:P06  quercetin  \n",
       "REP.B028_MCF7_24H_X2_B23:P06  quercetin  \n",
       "REP.B028_MCF7_24H_X2_B23:P06  quercetin  \n",
       "\n",
       "[328480 rows x 4 columns]"
      ]
     },
     "execution_count": 9,
     "metadata": {},
     "output_type": "execute_result"
    }
   ],
   "source": [
    "data.obs[['pert_dose','pert_time','merged_image','compound']]"
   ]
  },
  {
   "cell_type": "code",
   "execution_count": null,
   "metadata": {},
   "outputs": [],
   "source": []
  }
 ],
 "metadata": {
  "kernelspec": {
   "display_name": "base",
   "language": "python",
   "name": "python3"
  },
  "language_info": {
   "codemirror_mode": {
    "name": "ipython",
    "version": 3
   },
   "file_extension": ".py",
   "mimetype": "text/x-python",
   "name": "python",
   "nbconvert_exporter": "python",
   "pygments_lexer": "ipython3",
   "version": "3.12.7"
  }
 },
 "nbformat": 4,
 "nbformat_minor": 2
}
